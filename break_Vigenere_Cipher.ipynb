{
  "cells": [
    {
      "cell_type": "code",
      "execution_count": 1,
      "metadata": {
        "colab": {
          "base_uri": "https://localhost:8080/"
        },
        "id": "IAAThwuGSgKo",
        "outputId": "568fbf8a-8247-4ff6-b691-3c1ea8a809ad"
      },
      "outputs": [
        {
          "name": "stdout",
          "output_type": "stream",
          "text": [
            "None\n"
          ]
        }
      ],
      "source": [
        "#method generateIC takes a list of cosets as an inputs and returns the IC for these cosets\n",
        "def generateIC(coset):\n",
        "    cosetIC = 0\n",
        "    for c in coset:\n",
        "        c = c.lower()\n",
        "        count = [0]*26\n",
        "        n = 0\n",
        "        for i in range(0, len(c)):\n",
        "            val = ord(c[i]) - ord('a')\n",
        "            if(val >= 0 and val <= 25):\n",
        "                count[val] = count[val] + 1\n",
        "                n += 1\n",
        "        total = 0.0\n",
        "        for i in range(0, len(count)):\n",
        "            total += count[i] * (count[i]-1)\n",
        "        total = total/(n*(n-1))\n",
        "        cosetIC += total\n",
        "    cosetIC = cosetIC/len(coset)\n",
        "    return cosetIC\n",
        "\n",
        "\n",
        "def crack(cipher):\n",
        "   # TODO: implementation here\n",
        "   # Assume that the max key size is 10\n",
        "   # This method should output the most probable key length for the cipher given\n",
        "   # Refer to the Keyword Length Estimation with Index of Coincidence from here: https://pages.mtu.edu/~shene/NSF-4/Tutorial/VIG/Vig-IOC-Len.html\n",
        "\n",
        "    key_ic = []\n",
        "    text=\"\"\n",
        "    x = 0\n",
        "    max = 0\n",
        "    for key_size in range(1,11):\n",
        "        cosets=[]\n",
        "        for j in range(0,key_size):\n",
        "            coset=[]\n",
        "            for k in range(j,len(cipher),key_size):\n",
        "                text+=cipher[k]\n",
        "                #k+=key_size\n",
        "                #text = \"\"\n",
        "            coset.append(text)\n",
        "            cosets.append(coset)\n",
        "            ic_value = generateIC(coset)\n",
        "            key_ic.append(key_size)\n",
        "            key_ic.append(ic_value)\n",
        "            \n",
        "            \n",
        "            if(ic_value > max):\n",
        "                max = ic_value\n",
        "                x = key_size\n",
        "    return x\n",
        "    \n",
        "    #max = key_ic[key_size][ic_value]\n",
        "    #for key_value in key_ic:\n",
        "     #   if(key_value > max):\n",
        "      #      max = key_value\n",
        "    #return max\n",
        "           \n",
        "           \n",
        "           \n",
        "           \n",
        "        \n",
        "    \n",
        "    \n",
        "\n",
        "\n",
        "\n",
        "\n",
        "\n",
        "\n",
        "\n",
        "\n",
        "\n",
        "       \n",
        "\n",
        "\n",
        "s0 = \"RSTCSJLSLRSLFELGWLFIISIKRMGL\"\n",
        "s1 = \"OICPWZXZEVLGCLNFSYPGALPXWZJTEGALPCSIIWDHOIECCBFWPAHOPCGALPCCBROASNWTYHOIDBIHVPSCSIDEVLSYPGDLZDSLXSTBNWOTTMICPBAPJEVLCLCSUSEQCUHZQFBPPDOUHESSFLLGSUSCPGWINETVVESSZXLEIZUFZMVYNLBXYZESALPXRPWLRFLIHTHOXSPANPZCWMCZCJPPTQMALPXOISFEHOIZYZFXSTBNCZFQHRYZHKSTDWNRZCSALPXPLGLFGLXSPMJLLYULXSTBNWESSFTFDVALPSITEYCOJIQZFDECOOUHHSWSIDZALQLJGLIESSTEDEVLGCLNFSYPGDIDPSNIYTIZFPNOBWPEVLTPZDSIHSCHVPNFHDJPBVYRSHVXSTBRXSPMJEYNVHRRPHOIHZFSHLCSALPZBLWHSCKS\"\n",
        "s2 = \"VVVXSQWPSNJMUMJOKKLGFQAVEXAHWRVTMFXVVRKAJTVMFLOPHYWJDSTXKAGFVVTPHKYEPPJOKPSWACJVSIGGVOLXLVMQPVCMGOGMFLAKENVRMIUAKTKVHIXCFJZRAHWFHLIUMHCIRFWGFOETIUNEQVJWEHOSJWVQFYWKYMPGQHWISOPKHYFYV\"\n",
        "key_length = crack(s2)\n",
        "print(key_length)\n"
      ]
    }
  ],
  "metadata": {
    "colab": {
      "collapsed_sections": [],
      "name": "Task2.ipynb",
      "provenance": []
    },
    "kernelspec": {
      "display_name": "Python 3",
      "name": "python3"
    },
    "language_info": {
      "name": "python"
    }
  },
  "nbformat": 4,
  "nbformat_minor": 0
}
